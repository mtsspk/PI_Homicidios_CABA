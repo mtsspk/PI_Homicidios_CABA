{
 "cells": [
  {
   "cell_type": "code",
   "execution_count": null,
   "metadata": {},
   "outputs": [],
   "source": [
    "import pandas as pd\n",
    "import numpy as np\n",
    "import matplotlib.pyplot as plt\n",
    "import seaborn as sns\n",
    "from datetime import datetime\n",
    "\n",
    "%load_ext autoreload\n",
    "%autoreload 2\n",
    "import my_functions as mf\n",
    "\n",
    "import warnings\n",
    "warnings.filterwarnings(\"ignore\")\n",
    "\n",
    "\n"
   ]
  },
  {
   "cell_type": "code",
   "execution_count": null,
   "metadata": {},
   "outputs": [],
   "source": [
    "# Opciones de visualización de Dataframes\n",
    "pd.set_option('display.max_columns', None)\n",
    "'''\n",
    "pd.set_option('display.max_rows', None)\n",
    "pd.reset_option('display.max_rows')\n",
    "pd.reset_option('display') \n",
    "'''"
   ]
  },
  {
   "cell_type": "markdown",
   "metadata": {},
   "source": [
    "## Carga de datos\n",
    "\n",
    "Para empzar se realizará la carga de datos del archivo 'homicidios.xlsx' que contiene 2 hojas de datos propiamente dichos, 'HECHOS' Y 'VICTIMAS', además de otras pestañas que contienen información descriptiva sobre los datos.\n",
    "\n",
    "Se realizará la carga de las 2 hojas de datos en los dataframes df_hechos y df_victimas respectivamente, para luego proceder con la exploración de los mismos."
   ]
  },
  {
   "cell_type": "code",
   "execution_count": null,
   "metadata": {},
   "outputs": [],
   "source": [
    "df_hechos = pd.read_excel('Datasets/homicidios.xlsx', sheet_name='HECHOS')"
   ]
  },
  {
   "cell_type": "code",
   "execution_count": null,
   "metadata": {},
   "outputs": [],
   "source": [
    "df_victimas = pd.read_excel('Datasets/homicidios.xlsx', sheet_name='VICTIMAS')"
   ]
  },
  {
   "cell_type": "code",
   "execution_count": null,
   "metadata": {},
   "outputs": [],
   "source": [
    "# Se verifica la carga\n",
    "df_hechos.info()"
   ]
  },
  {
   "cell_type": "code",
   "execution_count": null,
   "metadata": {},
   "outputs": [],
   "source": [
    "# Se verifica la carga\n",
    "df_victimas.info()"
   ]
  },
  {
   "cell_type": "markdown",
   "metadata": {},
   "source": [
    "Teniendo cargados ambos dataframe procederemos con la exploración de cada uno, comenzando por el dataframe referido a hechos."
   ]
  },
  {
   "cell_type": "markdown",
   "metadata": {},
   "source": [
    "## ETL 'HECHOS' (df_hechos)"
   ]
  },
  {
   "cell_type": "markdown",
   "metadata": {},
   "source": [
    "En primer lugar, se explorarán los campos, sus tipos de datos, datos nulos, valores duplicados y únicos, para obtener un panorama general de la información."
   ]
  },
  {
   "cell_type": "code",
   "execution_count": null,
   "metadata": {},
   "outputs": [],
   "source": [
    "# Se aplica función personalizada para describir información de relevancia\n",
    "mf.describir_df(df_hechos)"
   ]
  },
  {
   "cell_type": "code",
   "execution_count": null,
   "metadata": {},
   "outputs": [],
   "source": [
    "# Se visualizan algunos registros\n",
    "df_hechos.head(3)"
   ]
  },
  {
   "cell_type": "markdown",
   "metadata": {},
   "source": [
    "### Observaciones iniciales"
   ]
  },
  {
   "cell_type": "markdown",
   "metadata": {},
   "source": [
    "En total cuenta con **696 registros con 21 campos**:\n",
    "'ID', 'N_VICTIMAS', 'FECHA', 'AAAA', 'MM', 'DD', 'HORA', 'HH', 'LUGAR_DEL_HECHO', 'TIPO_DE_CALLE', 'Calle', 'Altura', 'Cruce', 'Dirección Normalizada', 'COMUNA', 'XY (CABA)', 'pos x', 'pos y', 'PARTICIPANTES', 'VICTIMA', 'ACUSADO'.\n",
    "\n",
    "Entre los mismos encontramos variables temporales, espaciales y de participantes asociadas al hecho:\n",
    "- **Identificador único** para cada registro: campo 'ID'. Compuesto por el año del hecho y un número identificatorio (\"aaaa-numero\").\n",
    "- Información referida a los **participantes** involucrados en el siniestro: campos 'N_VICTIMAS' (refiere a cantidad de víctimas fatales producto del hecho), 'PARTICIPANTES', 'VICTIMA', 'ACUSADO'.\n",
    "- **Información temporal**: campos 'FECHA', 'AAAA', 'MM', 'DD', 'HORA', 'HH'.\n",
    "- **Información espacial**: 'LUGAR_DEL_HECHO', 'TIPO_DE_CALLE', 'Calle', 'Altura', 'Cruce', 'Dirección Normalizada', 'COMUNA', 'XY (CABA)', 'pos x', 'pos y'.\n",
    "\n",
    "El único campo con **valores únicos** es **'ID'**, que corresponde al identificador único de cada registro (es decir, de cada hecho).\n",
    "\n",
    "Nos encontramos con **valores nulos** en 4 campos (**'Calle', 'Altura', 'Cruce', 'Dirección Normalizada'**), todos ellos entre lo que refiere a **información espacial**.\n",
    "\n",
    "Por otro lado, como se explica en las [**notas de uso**](NOTAS_HOMICIDIOS_SINIESTRO_VIAL.pdf) relativas a la base de datos, en algunos casos se imputa 'SD' (sin datos) para valores faltantes."
   ]
  },
  {
   "cell_type": "markdown",
   "metadata": {},
   "source": [
    "Antes de proseguir con la exploración se estandarizarán los nombres de los campos."
   ]
  },
  {
   "cell_type": "code",
   "execution_count": null,
   "metadata": {},
   "outputs": [],
   "source": [
    "print(\"Campos originales:\\n\", df_hechos.columns, \"\\n\")\n",
    "\n",
    "# Reemplazar campos específicos\n",
    "reemplazos = {\n",
    "    'ID': 'Id_hecho',\n",
    "    'N_VICTIMAS': 'Cantidad_victimas',\n",
    "    'AAAA': 'Año',\n",
    "    'MM': 'Mes',\n",
    "    'DD': 'Dia',\n",
    "    'HH': 'Franja_horaria',\n",
    "    'LUGAR_DEL_HECHO': 'Lugar_hecho',\n",
    "    'TIPO_DE_CALLE': 'Tipo_calle',\n",
    "    'Dirección Normalizada': 'Direccion_normalizada',\n",
    "    'pos x' : 'Pos_x',\n",
    "    'pos y' : 'Pos_y'\n",
    "}\n",
    "\n",
    "df_hechos.columns = df_hechos.columns.to_series().replace(reemplazos).str.capitalize()\n",
    "# Renombrar \n",
    "df_hechos.rename(columns={'Xy (caba)': 'XY_CABA'}, inplace=True)\n",
    "\n",
    "print(\"Campos modificados:\\n\", df_hechos.columns)\n"
   ]
  },
  {
   "cell_type": "markdown",
   "metadata": {},
   "source": [
    "Tras estas modificaciones procederemos con exploración de valores nulos para determinar cómo tratarlos."
   ]
  },
  {
   "cell_type": "markdown",
   "metadata": {},
   "source": [
    "### Datos nulos o sin datos ('SD')\n",
    "\n",
    "Cómo se mencionó, tenemos valores nulos en 4 campos. \n",
    "\n",
    "- Calle:\t                1\tregistro (0.14%)\t\n",
    "- Altura:\t                567\tregistros (81.47%)\t\n",
    "- Cruce:\t                171\tregistros (24.57%)\n",
    "- Dirección Normalizada:\t8\tregistros (1.15%)\n",
    "\n",
    "Además de estas variables, contamos con otras referidas a información espacial del incidente que no contienen valores nulos y pueden ser suficientes para nuestro análisis es términos de la dimensión geográfica."
   ]
  },
  {
   "cell_type": "markdown",
   "metadata": {},
   "source": [
    "Por otro lado, tenemos los valores registrados con 'SD' (Sin Datos).\n",
    "\n",
    "Antes de abordar los valore nulos se observan estos registros."
   ]
  },
  {
   "cell_type": "code",
   "execution_count": null,
   "metadata": {},
   "outputs": [],
   "source": [
    "# Se buscan valores 'SD' en el dataframe\n",
    "valor = ['SD']\n",
    "mf.buscar_valor(df_hechos, valor)"
   ]
  },
  {
   "cell_type": "markdown",
   "metadata": {},
   "source": [
    "En total 28 filas presentan al menos un campo sin datos (sin contabilizar valores nulos), con 35 apariciones en total.\n",
    "\n",
    "Particularmente, se encuentran en los campos 'Hora': 1, 'Franja_horaria': 1, 'Lugar_hecho': 1, 'Victima': 9 y 'Acusado': 23.\n",
    "\n",
    "Ningún campo presenta simultáneamente valores con 'SD' y nulos.\n",
    "\n",
    "Por el momento, los valores con 'SD' se imputaran como nulos y luego se definirá como tratarlos según sea el caso."
   ]
  },
  {
   "cell_type": "code",
   "execution_count": null,
   "metadata": {},
   "outputs": [],
   "source": [
    "mf.imputar_valores(df_hechos, valor_a_reemplazar = 'SD', valor_a_imputar = None, campos=None)"
   ]
  },
  {
   "cell_type": "markdown",
   "metadata": {},
   "source": [
    "Se puede observar que ahora se suman estos valores a los nulos que ya teníamos."
   ]
  },
  {
   "cell_type": "code",
   "execution_count": null,
   "metadata": {},
   "outputs": [],
   "source": [
    "mf.buscar_valor(df_hechos, valores = None, campos=None)"
   ]
  },
  {
   "cell_type": "markdown",
   "metadata": {},
   "source": [
    "Más adelante exploraremos estos datos faltantes para definir cómo tratarlos y la información que será objetivo de análisis."
   ]
  },
  {
   "cell_type": "markdown",
   "metadata": {},
   "source": [
    "### Duplicados"
   ]
  },
  {
   "cell_type": "markdown",
   "metadata": {},
   "source": [
    "Sabiendo que para 'Id_hecho' no contamos con valores duplicados, se tiene la certeza de que todos los registros cuentan con su identificador único."
   ]
  },
  {
   "cell_type": "code",
   "execution_count": null,
   "metadata": {},
   "outputs": [],
   "source": [
    "# Se trae información del campo 'Id_hecho'\n",
    "mf.describir_df(df_hechos, campos_incluir=['Id_hecho'])"
   ]
  },
  {
   "cell_type": "markdown",
   "metadata": {},
   "source": [
    "Se verifica si existen registros duplicados excluyendo dicho campo, para descartar duplicados con un identificador distinto."
   ]
  },
  {
   "cell_type": "code",
   "execution_count": null,
   "metadata": {},
   "outputs": [],
   "source": [
    "# Duplicados en todo el DataFrame excluyendo columna 'Id_hecho'\n",
    "mf.duplicados(df_hechos, campos_excluir=['Id_hecho'])"
   ]
  },
  {
   "cell_type": "markdown",
   "metadata": {},
   "source": [
    "Ningún registro contiene información duplicada en el resto de los campos."
   ]
  },
  {
   "cell_type": "markdown",
   "metadata": {},
   "source": [
    "A continuación se exploran las variables asociadas según sean estas temporales, espaciales y referidas a los participantes, de forma tal de profundizar en el contenido de las mismas y definir cuáles serán utilizadas para el análisis, identificar información relevante o redundante si la hubiese."
   ]
  },
  {
   "cell_type": "markdown",
   "metadata": {},
   "source": [
    "## Variables sobre participantes ('Cantidad_victimas', 'Participantes',\t'Victima',\t'Acusado')"
   ]
  },
  {
   "cell_type": "markdown",
   "metadata": {},
   "source": [
    "Se agrupan estas variables y se traen algunos registros."
   ]
  },
  {
   "cell_type": "code",
   "execution_count": null,
   "metadata": {},
   "outputs": [],
   "source": [
    "# Se genera un dataframe con la información de variables \n",
    "campos_participantes = ['Cantidad_victimas', 'Participantes',\t'Victima',\t'Acusado']\n",
    "df_participantes = df_hechos[campos_participantes]\n",
    "mf.registros_al_azar(df_participantes, 3)"
   ]
  },
  {
   "cell_type": "markdown",
   "metadata": {},
   "source": [
    "Se observan valores únicos para cada campo."
   ]
  },
  {
   "cell_type": "code",
   "execution_count": null,
   "metadata": {},
   "outputs": [],
   "source": [
    "# Se observan valores únicos para cada campo\n",
    "mf.valores_unicos(df_participantes, campos_participantes)"
   ]
  },
  {
   "cell_type": "markdown",
   "metadata": {},
   "source": [
    "Algunas observaciones:\n",
    "- La cantidad de víctimas es entre 1 y 3 personas.\n",
    "- En el campo 'Victima' se encuentran valores 'OBJETO FIJO' y 'PEATON_MOTO', que no se encuentran como valores posibles en las notas de uso correspondientes al dataset original provisto.\n",
    "- En el campo 'Participantes' se observan múltiples combinaciones, tomando valores de los campos anteriormente mencionados. En algunos casos se observan valores 'SD' combinados con otros, o bien 'SD-SD'.\n",
    "- 'Victima' y 'Acusado' presentan valores nulos.\n",
    "\n",
    "Se observarán los registros donde se encontraron datos no incluídos en las notas de uso."
   ]
  },
  {
   "cell_type": "code",
   "execution_count": null,
   "metadata": {},
   "outputs": [],
   "source": [
    "# Se traer registros donde la columna 'Victima' es igual a 'OBJETO FIJO' o 'PEATON_MOTO'\n",
    "df_participantes[df_participantes['Victima'].isin(['OBJETO FIJO', 'PEATON_MOTO'])]"
   ]
  },
  {
   "cell_type": "markdown",
   "metadata": {},
   "source": [
    "Se observa que en ambos casos hubo 2 víctimas. Posiblemente el segundo registro refiera a una víctima peatón y otra en moto. Sin embargo, al no poder precisar el vehículo de las víctimas, se modificarán estos valores por 'OTRO', siguiendo las indicaciones de las notas de uso."
   ]
  },
  {
   "cell_type": "code",
   "execution_count": null,
   "metadata": {},
   "outputs": [],
   "source": [
    "# Reemplazar 'AUTO-OBJETO FIJO' por 'OTRO- AUTO' en el campo 'Participantes'\n",
    "df_participantes.at[230, 'Participantes'] = 'OTRO-AUTO'\n",
    "\n",
    "# Reemplazar 'OBJETO FIJO' por 'OTRO' en el campo 'Victima'\n",
    "df_participantes.at[230, 'Victima'] = 'OTRO'\n",
    "\n",
    "df_participantes.iloc[230]"
   ]
  },
  {
   "cell_type": "code",
   "execution_count": null,
   "metadata": {},
   "outputs": [],
   "source": [
    "# Reemplazar 'AUTO-OBJETO FIJO' por 'AUTO-OTRO' en el campo 'Participantes'\n",
    "df_participantes.at[583, 'Participantes'] = 'OTRO-MOTO'\n",
    "\n",
    "# Reemplazar 'OBJETO FIJO' por 'OTRO' en el campo 'Victima'\n",
    "df_participantes.at[583, 'Victima'] = 'OTRO'\n",
    "\n",
    "df_participantes.iloc[583]"
   ]
  },
  {
   "cell_type": "markdown",
   "metadata": {},
   "source": [
    "Se verifican los cambios obsevando los valores únicos de ambos campos."
   ]
  },
  {
   "cell_type": "code",
   "execution_count": null,
   "metadata": {},
   "outputs": [],
   "source": [
    "mf.valores_unicos(df_participantes, ['Victima', 'Acusado'])"
   ]
  },
  {
   "cell_type": "markdown",
   "metadata": {},
   "source": [
    "Los valores nulos de estos 2 campos serán imputados con el valor más frecuente de cada uno, visto y considerando que no representan una cantidad significativa de los datos."
   ]
  },
  {
   "cell_type": "code",
   "execution_count": null,
   "metadata": {},
   "outputs": [],
   "source": [
    "# Se busca la moda para cada campo\n",
    "print(mf.buscar_moda(df_participantes, 'Victima'))\n",
    "print(mf.buscar_moda(df_participantes, 'Acusado'))"
   ]
  },
  {
   "cell_type": "code",
   "execution_count": null,
   "metadata": {},
   "outputs": [],
   "source": [
    "# Se imputa en 'Victima' el valor 'MOTO'\n",
    "mf.imputar_valores(df_participantes, valor_a_reemplazar=None, valor_a_imputar='MOTO', campos=['Victima'])\n",
    "mf.valores_unicos(df_participantes, ['Victima'])"
   ]
  },
  {
   "cell_type": "code",
   "execution_count": null,
   "metadata": {},
   "outputs": [],
   "source": [
    "# Se imputan en 'Acusado' el valor 'AUTO'\n",
    "mf.imputar_valores(df_participantes, valor_a_reemplazar=None, valor_a_imputar='AUTO', campos=['Acusado'])\n",
    "mf.valores_unicos(df_participantes, ['Acusado'])"
   ]
  },
  {
   "cell_type": "markdown",
   "metadata": {},
   "source": [
    "Habiendo realizado estas modificaciones, se determina que la variable 'Participantes' no aporta información valiosa, ya que contiene los valores de 'Victima' y 'Acusado', motivo por el que se descarta.\n",
    "\n",
    "Se procede a actualizar los datos con estas modificaciones en el dataframe original."
   ]
  },
  {
   "cell_type": "code",
   "execution_count": null,
   "metadata": {},
   "outputs": [],
   "source": [
    "# Copiar la información de df_temporal a df_hechos\n",
    "df_hechos.update(df_participantes['Victima'])\n",
    "df_hechos.update(df_participantes['Acusado'])\n",
    "\n",
    "# Eliminar las columnas especificadas\n",
    "df_hechos = df_hechos.drop(['Participantes'], axis=1)"
   ]
  },
  {
   "cell_type": "code",
   "execution_count": null,
   "metadata": {},
   "outputs": [],
   "source": [
    "# Se verifican las modificaciones\n",
    "mf.describir_df(df_hechos)"
   ]
  },
  {
   "cell_type": "markdown",
   "metadata": {},
   "source": [
    "## Variables temporales ('Fecha', 'Año', 'Mes', 'Dia', 'Hora', 'Franja_horaria')"
   ]
  },
  {
   "cell_type": "markdown",
   "metadata": {},
   "source": [
    "Se agrupan estas variables y se traen reiterados registros al azar para ver la relación entre cada variable."
   ]
  },
  {
   "cell_type": "code",
   "execution_count": null,
   "metadata": {},
   "outputs": [],
   "source": [
    "# Se genera un dataframe con la información de variables temporales\n",
    "campos_temporal = ['Fecha', 'Año', 'Mes', 'Dia', 'Hora', 'Franja_horaria']\n",
    "df_temporal = df_hechos[campos_temporal]"
   ]
  },
  {
   "cell_type": "code",
   "execution_count": null,
   "metadata": {},
   "outputs": [],
   "source": [
    "# Se traen registros al azar para visualizar la información disponible en distintos registros\n",
    "mf.registros_al_azar(df_temporal, 10)"
   ]
  },
  {
   "cell_type": "markdown",
   "metadata": {},
   "source": [
    "Tras explorar varios grupos de registros al azar queda claro qué el campo 'Fecha' combina la información de 'Año', 'Mes', 'Dia', 'Hora' se muestra en formato hh:mm:ss y 'Franja_horaria' refiere a la hora como número entero.\n",
    "\n",
    "Sin embargo, se observan algunos valores ingresados incorrectamente, combinando en un campo información variada (por ejemplo, fecha y hora en un mismo valor)."
   ]
  },
  {
   "cell_type": "markdown",
   "metadata": {},
   "source": [
    "En 'Hora' y 'Franja_horaria' encontramos múltiples tipos de datos.\n",
    "\n",
    "Para continuar, verificaremos valores de cada campo invividualmente."
   ]
  },
  {
   "cell_type": "code",
   "execution_count": null,
   "metadata": {},
   "outputs": [],
   "source": [
    "pd.set_option('display.max_colwidth', None)\n",
    "mf.tipo_datos(df_temporal)"
   ]
  },
  {
   "cell_type": "markdown",
   "metadata": {},
   "source": [
    "En la variable 'Hora', se exploran específicamente los valores tipo 'str' (cadena de texto) y luego se comparan con otros valores."
   ]
  },
  {
   "cell_type": "code",
   "execution_count": null,
   "metadata": {},
   "outputs": [],
   "source": [
    "# Filtrar y mostrar solo los campos de tipo str en la columna 'Hora'\n",
    "mf.registros_al_azar((df_temporal['Hora'][df_temporal['Hora'].apply(lambda x: isinstance(x, str))]), 5)"
   ]
  },
  {
   "cell_type": "code",
   "execution_count": null,
   "metadata": {},
   "outputs": [],
   "source": [
    "mf.registros_al_azar(df_temporal['Hora'], 5)"
   ]
  },
  {
   "cell_type": "markdown",
   "metadata": {},
   "source": [
    "Se observa en todos los casos un formato \"hh:mm:ss\".\n",
    "\n",
    "Se modifica el tipo de datos de todos los valores a 'datetime.time'."
   ]
  },
  {
   "cell_type": "code",
   "execution_count": null,
   "metadata": {},
   "outputs": [],
   "source": [
    "# Aplica la función a la columna 'Hora', excluyendo valores None\n",
    "df_temporal['Hora'] = df_temporal['Hora'].apply(mf.convertir_a_datetime).dropna()\n",
    "\n",
    "mf.tipo_datos(df_temporal, ['Hora'])"
   ]
  },
  {
   "cell_type": "code",
   "execution_count": null,
   "metadata": {},
   "outputs": [],
   "source": [
    "# Se identifica registro con valor nulo\n",
    "df_temporal['Hora'][df_temporal['Hora'].apply(lambda x: isinstance(x, float))]"
   ]
  },
  {
   "cell_type": "markdown",
   "metadata": {},
   "source": [
    "Un registro aún es nulo."
   ]
  },
  {
   "cell_type": "code",
   "execution_count": null,
   "metadata": {},
   "outputs": [],
   "source": [
    "df_temporal.iloc[518]"
   ]
  },
  {
   "cell_type": "markdown",
   "metadata": {},
   "source": [
    "Se observa que 'Franja_horaria' también es nula en el registro correspondiente.\n",
    "\n",
    "Considerando que se trata solamente de un registro se determina imputar la hora del hecho con el valor más frecuente."
   ]
  },
  {
   "cell_type": "code",
   "execution_count": null,
   "metadata": {},
   "outputs": [],
   "source": [
    "hora_mas_frecuente = df_temporal['Hora'].mode()[0]\n",
    "hora_mas_frecuente"
   ]
  },
  {
   "cell_type": "markdown",
   "metadata": {},
   "source": [
    "Se imputa 9 horas como el valor moda."
   ]
  },
  {
   "cell_type": "code",
   "execution_count": null,
   "metadata": {},
   "outputs": [],
   "source": [
    "# Imputar valores en el registro 518\n",
    "df_temporal.at[518, 'Hora'] = hora_mas_frecuente\n",
    "df_temporal.at[518, 'Franja_horaria'] = int(hora_mas_frecuente.hour)\n",
    "    \n",
    "# Verificar los cambios\n",
    "df_temporal.iloc[518]"
   ]
  },
  {
   "cell_type": "markdown",
   "metadata": {},
   "source": [
    "Se observa que los valores han sido modificados aplicando la moda de la hora.\n",
    "\n",
    "Verificamos el cambio de tipo de datos, corroborando que 'Hora' y 'Franja_horaria' cuentan con el tipo de datos correcto para todos los registros."
   ]
  },
  {
   "cell_type": "code",
   "execution_count": null,
   "metadata": {},
   "outputs": [],
   "source": [
    "mf.tipo_datos(df_temporal)"
   ]
  },
  {
   "cell_type": "markdown",
   "metadata": {},
   "source": [
    "Por último chequeamos valores mínimos y máximos de los campos para asegurar que no haya información errónea."
   ]
  },
  {
   "cell_type": "code",
   "execution_count": null,
   "metadata": {},
   "outputs": [],
   "source": [
    "mf.max_min_campos(df_temporal, campos_temporal)"
   ]
  },
  {
   "cell_type": "markdown",
   "metadata": {},
   "source": [
    "Se verifican los valores, pudiendo observar que hay hechos registrados desde el 1 de enero de 2016 hasta el 30 de diciembre de 2021.\n",
    "\n",
    "Habiendo realizado todas las modificaciones pertinentes sobre este conjunto de datos, se procede a volcar la información en el conjunto original."
   ]
  },
  {
   "cell_type": "code",
   "execution_count": null,
   "metadata": {},
   "outputs": [],
   "source": [
    "# Copiar la información de df_temporal a df_hechos\n",
    "df_hechos.update(df_temporal[campos_temporal])\n",
    "\n",
    "mf.describir_df(df_hechos, campos_incluir = campos_temporal)"
   ]
  },
  {
   "cell_type": "markdown",
   "metadata": {},
   "source": [
    "## Variables espaciales "
   ]
  },
  {
   "cell_type": "markdown",
   "metadata": {},
   "source": [
    "A continuación se exploran las variables espaciales.\n",
    "\n",
    "Se cuenta con detalles referidos a dónde ocurrió el hecho. Particularmente se pueden observar variables referidas especicamente al tipo de arteria (calle, avenida, autopista, General Paz) y detalles de la misma, y otras variables de geolocalización (latitud, longitud) que permiten una ubicación precisa en el mapa."
   ]
  },
  {
   "cell_type": "markdown",
   "metadata": {},
   "source": [
    "### Detalles sobre arteria donde ocurrió el hecho \n",
    "\n",
    "Estos campos refieren a la ubicación específica dónde ocurrió el hecho en la Ciudad de Buenos Aires y detalles al respecto ('Lugar_hecho', 'Tipo_calle', 'Calle', 'Altura', 'Cruce', 'Direccion_normalizada', 'Comuna')."
   ]
  },
  {
   "cell_type": "code",
   "execution_count": null,
   "metadata": {},
   "outputs": [],
   "source": [
    "# Se genera un dataframe con la información de variables \n",
    "campos_calle = ['Lugar_hecho', 'Tipo_calle', 'Calle', 'Altura', 'Cruce', 'Direccion_normalizada', 'Comuna']\n",
    "df_calle = df_hechos[campos_calle]\n",
    "\n",
    "mf.describir_df(df_calle)"
   ]
  },
  {
   "cell_type": "code",
   "execution_count": null,
   "metadata": {},
   "outputs": [],
   "source": [
    "mf.tipo_datos(df_calle)"
   ]
  },
  {
   "cell_type": "markdown",
   "metadata": {},
   "source": [
    "En el campo 'Altura' se encuentra un total de 567 registros nulos (más del 81%).\n",
    "\n",
    "Dado que contamos con varios campos que pueden aportar información complementaria, se revisarán aquellos referidos a la calle ('Lugar_hecho', 'Tipo_calle', 'Calle', 'Altura', 'Cruce',\n",
    "       'Direccion_normalizada')."
   ]
  },
  {
   "cell_type": "code",
   "execution_count": null,
   "metadata": {},
   "outputs": [],
   "source": [
    "# Se traen registros al azar para visualizar la información disponible en distintos registros\n",
    "mf.registros_al_azar(df_calle, 3)"
   ]
  },
  {
   "cell_type": "markdown",
   "metadata": {},
   "source": [
    "Tras explorar varios registros se oberva:\n",
    "- La información de 'Lugar_hecho' y de 'Direccion_normalizada 'combinan información de 'Calle', 'Altura' y 'Cruce', conteniendo prácticamente los mismo datos.\n",
    "- Donde 'Altura' contiene valor nulo, implica que el hecho ocurrió en un cruce.\n",
    "- Inversamente, donde 'Cruce' no contiene datos, se cuenta con la altura de la calle.\n",
    "\n",
    "A partir de estas observaciones, se concluye que la variable 'Cruce' nos puede indicar si esto ocurrió en una esquina o en algún punto de la calle/avenida/autopista que no cruce con otra, y en 'Dirección_normalizada' contamos con la información de 'Calle' y 'Altura'/'Cruce'.\n",
    "\n",
    "Bajo estas consideraciones, se decide:\n",
    "- Prescindir de los campos 'Lugar_hecho' y 'Altura' (en ambos casos la información está contenido en 'Dirección_normalizada', ademas de contar con datos de geolocalización).\n",
    "- Transformar la columna 'Curce' en una variable booleana ('Si', en caso que sea un cruce, 'No' si no hay datos en el registro), también considerando que el nombre del cruce se puede encontrar en 'Dirección_normalizada'.\n",
    "\n",
    "Se conserva el campo 'Calle', a pesar de está contenido en 'Direccion_normalizada' y ser información redundante, ya que puede aportar al análisis que se realizará luego."
   ]
  },
  {
   "cell_type": "markdown",
   "metadata": {},
   "source": [
    "Primero se exploran registros nulos de 'Direccion_normalizada'."
   ]
  },
  {
   "cell_type": "code",
   "execution_count": null,
   "metadata": {},
   "outputs": [],
   "source": [
    "mf.buscar_valor(df_calle, valores=None, campos = ['Direccion_normalizada'])\n",
    "mf.mostrar_registros(df_calle, valor=None, campos = ['Direccion_normalizada'])"
   ]
  },
  {
   "cell_type": "markdown",
   "metadata": {},
   "source": [
    "Estos registros coinciden en que todos ocurrieron en autopista, a excepción de uno que no contiene datos en los campos de calle.\n",
    "\n",
    "Si bien la información de 'Direccion_normalizada' no resulta imprescindible, en los campos con valor nulo se tomarán los datos de 'Lugar_hecho' en reemplazo."
   ]
  },
  {
   "cell_type": "code",
   "execution_count": null,
   "metadata": {},
   "outputs": [],
   "source": [
    "def reemplazar_direccion(row):\n",
    "    if pd.isnull(row['Direccion_normalizada']):\n",
    "        return row['Lugar_hecho']\n",
    "    else:\n",
    "        return row['Direccion_normalizada']\n",
    "\n",
    "# Aplicar la función a la columna 'Direccion_normalizada'\n",
    "df_calle['Direccion_normalizada'] = df_calle.apply(reemplazar_direccion, axis=1)"
   ]
  },
  {
   "cell_type": "markdown",
   "metadata": {},
   "source": [
    "En el registro 119, dado que no contiene valores para completar, se imputa 'SD' en los campos 'Calle' y  'Direccion_normalizada'.\n",
    "\n",
    "En 'Cruce' se imputará el valor más frecuente una vez convertida la columna a 'SI' / 'NO'."
   ]
  },
  {
   "cell_type": "code",
   "execution_count": null,
   "metadata": {},
   "outputs": [],
   "source": [
    "# Reemplazar el valor en la fila específica\n",
    "df_calle.at[119, 'Direccion_normalizada'] = 'SD'\n",
    "df_calle.at[119, 'Calle'] = 'SD'"
   ]
  },
  {
   "cell_type": "markdown",
   "metadata": {},
   "source": [
    "Se verifican las modificaciones. "
   ]
  },
  {
   "cell_type": "code",
   "execution_count": null,
   "metadata": {},
   "outputs": [],
   "source": [
    "mf.mostrar_registros(df_calle, valor=None, campos = ['Direccion_normalizada'])"
   ]
  },
  {
   "cell_type": "code",
   "execution_count": null,
   "metadata": {},
   "outputs": [],
   "source": [
    "indices_a_mostrar = [38, 106, 119, 180, 181, 313, 546, 621]\n",
    "registros_seleccionados = df_calle.loc[indices_a_mostrar]\n",
    "registros_seleccionados"
   ]
  },
  {
   "cell_type": "markdown",
   "metadata": {},
   "source": [
    "Se prosigue con la información relativa a 'Cruce', realizando la transformación mencionada arriba."
   ]
  },
  {
   "cell_type": "code",
   "execution_count": null,
   "metadata": {},
   "outputs": [],
   "source": [
    "# Los datos nulos de la columna 'Cruce' toman valor 'NO', y donde se registro una calle como cruce se reemplaza por 'SI'\n",
    "def transformar_cruce(x):\n",
    "    if pd.isna(x):\n",
    "        return 'NO'\n",
    "    else:\n",
    "        return 'SI'\n",
    "\n",
    "df_calle['Cruce'] = df_calle['Cruce'].apply(transformar_cruce)"
   ]
  },
  {
   "cell_type": "code",
   "execution_count": null,
   "metadata": {},
   "outputs": [],
   "source": [
    "# Se identifica valor más frecuente para 'Cruce'\n",
    "mf.buscar_moda(df_calle, campos = ['Cruce'])"
   ]
  },
  {
   "cell_type": "code",
   "execution_count": null,
   "metadata": {},
   "outputs": [],
   "source": [
    "# Reemplazar el valor en la fila específica\n",
    "df_calle.at[119, 'Cruce'] = 'SI'"
   ]
  },
  {
   "cell_type": "code",
   "execution_count": null,
   "metadata": {},
   "outputs": [],
   "source": [
    "# Se contabilizan registros sin cruce\n",
    "print(f\"Cantidad de registros con 'Cruce' igual a 'NO': {len(df_calle[df_calle['Cruce'] == 'NO'])}\")"
   ]
  },
  {
   "cell_type": "markdown",
   "metadata": {},
   "source": [
    "Los 171 registros nulos para 'Cruce' ahora tienen como valor 'NO', indicando que el hecho no ocurrió en un cruce, a excepción del que se le imputó 'SI' por ser el valor más frecuente."
   ]
  },
  {
   "cell_type": "markdown",
   "metadata": {},
   "source": [
    "Se actualiza la información en el dataframe original, se descartan las columnas 'Lugar_hecho' y 'Altura', y se verifica la actualizacion."
   ]
  },
  {
   "cell_type": "code",
   "execution_count": null,
   "metadata": {},
   "outputs": [],
   "source": [
    "# Actualizar información de df_calle a df_hechos\n",
    "df_hechos.update(df_calle['Cruce'])\n",
    "df_hechos.update(df_calle['Direccion_normalizada'])\n",
    "df_hechos.update(df_calle['Calle'])\n",
    "\n",
    "# Eliminar las columnas especificadas\n",
    "df_hechos = df_hechos.drop(['Lugar_hecho', 'Altura'], axis=1)\n",
    "\n",
    "mf.describir_df(df_hechos)"
   ]
  },
  {
   "cell_type": "markdown",
   "metadata": {},
   "source": [
    "Tras estas modificaciones ya no tenemos valores nulos.\n",
    "\n",
    "Se observan 1 registro con los campos 'SD' que imputamos."
   ]
  },
  {
   "cell_type": "code",
   "execution_count": null,
   "metadata": {},
   "outputs": [],
   "source": [
    "mf.buscar_valor(df_hechos, valores = 'SD', campos=None)"
   ]
  },
  {
   "cell_type": "markdown",
   "metadata": {},
   "source": [
    "### Detalles de geolocalización"
   ]
  },
  {
   "cell_type": "markdown",
   "metadata": {},
   "source": [
    "Se prosigue con la información vinculada a geolocalización ('XY_CABA', 'Pos_x', 'Pos_y')."
   ]
  },
  {
   "cell_type": "code",
   "execution_count": null,
   "metadata": {},
   "outputs": [],
   "source": [
    "# Se genera un dataframe con la información de variables espaciales\n",
    "campos_geo = ['XY_CABA', 'Pos_x', 'Pos_y']\n",
    "df_geo = df_hechos[campos_geo]\n",
    "\n",
    "mf.describir_df(df_geo)"
   ]
  },
  {
   "cell_type": "markdown",
   "metadata": {},
   "source": [
    "Se explora si existen valores 'SD' en estos campos y no se encuentra ninguno."
   ]
  },
  {
   "cell_type": "code",
   "execution_count": null,
   "metadata": {},
   "outputs": [],
   "source": [
    "# Contar valores 'SD' \n",
    "print(f\"Registros 'SD':\")\n",
    "print(f\"Columna 'XY_CABA': {df_geo['XY_CABA'].value_counts().get('SD', 0)}\")\n",
    "print(f\"Columna 'Pos_x': {df_geo['Pos_x'].value_counts().get('SD', 0)}\")\n",
    "print(f\"Columna 'Pos_y': {df_geo['Pos_y'].value_counts().get('SD', 0)}\")"
   ]
  },
  {
   "cell_type": "code",
   "execution_count": null,
   "metadata": {},
   "outputs": [],
   "source": [
    "# Se traen registros al azar para visualizar la información disponible en distintos registros\n",
    "mf.registros_al_azar(df_geo, 10)"
   ]
  },
  {
   "cell_type": "markdown",
   "metadata": {},
   "source": [
    "Se observan algunos valor 'Point (. .)' en 'XY_CABA' y '.' en 'Pos_x' y Pos_y', lo cual indica que no se cuenta con información sobre estas ubicaciones. Se reemplazan por 0."
   ]
  },
  {
   "cell_type": "code",
   "execution_count": null,
   "metadata": {},
   "outputs": [],
   "source": [
    "mf.buscar_valor(df_geo, valores = 'Point (. .)')\n",
    "mf.buscar_valor(df_geo, valores = '.')"
   ]
  },
  {
   "cell_type": "code",
   "execution_count": null,
   "metadata": {},
   "outputs": [],
   "source": [
    "df_geo['XY_CABA'] = df_geo['XY_CABA'].replace('Point (. .)', 0)\n",
    "df_geo['Pos_x'] = df_geo['Pos_x'].replace('.', 0)\n",
    "df_geo['Pos_y'] = df_geo['Pos_y'].replace('.', 0)\n",
    "\n",
    "# Imprimir el resultado\n",
    "print(f\"Cantidad de valores iguales a 0 en 'XY_CABA': {df_geo['XY_CABA'].value_counts().get(0, 0)}\")\n",
    "print(f\"Cantidad de valores iguales a 0 en 'Pos_x': {df_geo['Pos_x'].value_counts().get(0, 0)}\")\n",
    "print(f\"Cantidad de valores iguales a 0 en 'Pos_y': {df_geo['Pos_y'].value_counts().get(0, 0)}\")"
   ]
  },
  {
   "cell_type": "code",
   "execution_count": null,
   "metadata": {},
   "outputs": [],
   "source": [
    "df_geo.loc[df_geo['XY_CABA'] == 0]"
   ]
  },
  {
   "cell_type": "markdown",
   "metadata": {},
   "source": [
    "Se observan 12 registros totales que no cuentan con información de geolocalización. \n",
    "\n",
    "En 2 registros si bien no se cuenta con datos para 'XY_CABA', si existen datos de latitud y longitud. "
   ]
  },
  {
   "cell_type": "markdown",
   "metadata": {},
   "source": [
    "\n",
    "Dado que con las coordenadas de latitud y longitud es suficiente para geolocalizar los hechos, el campo 'XY_CABA' no es necesario, por lo que se lo descarta del dataset."
   ]
  },
  {
   "cell_type": "code",
   "execution_count": null,
   "metadata": {},
   "outputs": [],
   "source": [
    "# Actualizar información de df_calle a df_hechos\n",
    "df_hechos.update(df_geo['Pos_x'])\n",
    "df_hechos.update(df_geo['Pos_y'])\n",
    "\n",
    "# Eliminar las columnas especificadas\n",
    "df_hechos = df_hechos.drop(['XY_CABA'], axis=1)\n",
    "\n",
    "# Se verifica la carga\n",
    "df_hechos.head(1)"
   ]
  },
  {
   "cell_type": "markdown",
   "metadata": {},
   "source": [
    "Con esto se puede dar por finalizada la revisión inicial y las transformaciones necesarias sobre los datos provistos en la hoja 'HECHOS' del archivo Excel provisto. \n",
    "\n",
    "Se reserva el dataframe con las transformaciones realizadas hasta el momento y se procede con la reivisión de la hoja 'VICTIMAS' del mismo archivo (nuestro datafram 'df_victimas')."
   ]
  },
  {
   "cell_type": "markdown",
   "metadata": {},
   "source": [
    "## ETL 'VICTIMAS' (df_victimas)\n",
    "\n",
    "Al inicio se realizó la carga de datos sobre victimas en el datafram df_victimas, el cual se procederá a explorar."
   ]
  },
  {
   "cell_type": "code",
   "execution_count": null,
   "metadata": {},
   "outputs": [],
   "source": [
    "mf.describir_df(df_victimas)"
   ]
  },
  {
   "cell_type": "code",
   "execution_count": null,
   "metadata": {},
   "outputs": [],
   "source": [
    "# Se visualizan algunos registros\n",
    "df_victimas.head(3)"
   ]
  },
  {
   "cell_type": "markdown",
   "metadata": {},
   "source": [
    "### Observaciones iniciales"
   ]
  },
  {
   "cell_type": "markdown",
   "metadata": {},
   "source": [
    "En total cuenta con **717 registros con 20 campos**:\n",
    "'ID_hecho', 'FECHA', 'AAAA', 'MM', 'DD', 'ROL', 'VICTIMA', 'SEXO', 'EDAD', 'FECHA_FALLECIMIENTO'.\n",
    "\n",
    "Entre los mismos encontramos variables temporales, y variables asociadas a la víctima:\n",
    "- **Información temporal**: campos 'FECHA', 'AAAA', 'MM', 'DD'.\n",
    "- **Información sobre la víctima**: 'ROL', 'VICTIMA', 'SEXO', 'EDAD', 'FECHA_FALLECIMIENTO'.\n",
    "\n",
    "Se encuentra el campo **'ID_hecho'**, que se debería corresponder con los identificicadores únicos de 'df_hechos'. Sin embargo, se observa que en este caso no son únicos en su totalidad. Esto seguramente se debe a que en algunos casos un hecho tuvo más de una víctima.\n",
    "\n",
    "No se registran valores nulos.\n",
    "\n",
    "Nuevamente se identifican campos con distintos tipos de datos en sus valores, 'EDAD' y 'FECHA_FALLECIMIENTO'.\n",
    "\n",
    "Como se hizo para el dataframe de hechos, se procede a estandarizar los nombes de los campos."
   ]
  },
  {
   "cell_type": "code",
   "execution_count": null,
   "metadata": {},
   "outputs": [],
   "source": [
    "print(\"Campos originales:\\n\", df_victimas.columns, \"\\n\")\n",
    "'ID_hecho', 'FECHA', 'AAAA', 'MM', 'DD', 'ROL', 'VICTIMA', 'SEXO', 'EDAD', 'FECHA_FALLECIMIENTO'\n",
    "# Reemplazar campos específicos\n",
    "reemplazos = {\n",
    "    'ID_hecho': 'Id_hecho',\n",
    "    'FECHA': 'Fecha',\n",
    "    'AAAA': 'Año',\n",
    "    'MM': 'Mes',\n",
    "    'DD': 'Dia',\n",
    "    'ROL': 'Rol',\n",
    "    'VICTIMA': 'Victima',\n",
    "    'SEXO': 'Sexo',\n",
    "    'EDAD' : 'Edad',\n",
    "    'FECHA_FALLECIMIENTO' : 'Fecha_fallecimiento'\n",
    "}\n",
    "\n",
    "df_victimas.columns = df_victimas.columns.to_series().replace(reemplazos)\n",
    "\n",
    "print(\"Campos modificados:\\n\", df_victimas.columns)"
   ]
  },
  {
   "cell_type": "markdown",
   "metadata": {},
   "source": [
    "## Tipo de datos"
   ]
  },
  {
   "cell_type": "markdown",
   "metadata": {},
   "source": [
    "Se exploran los valores de 'Edad'."
   ]
  },
  {
   "cell_type": "code",
   "execution_count": null,
   "metadata": {},
   "outputs": [],
   "source": [
    "mf.tipo_datos(df_victimas, ['Edad'])"
   ]
  },
  {
   "cell_type": "code",
   "execution_count": null,
   "metadata": {},
   "outputs": [],
   "source": [
    "# Se exploran los valores de tipo texto contenidos en el campo 'Edad'\n",
    "print(\"Valores de tipo texto en campo 'Edad':\", (df_victimas['Edad'][df_victimas['Edad'].apply(lambda x: isinstance(x, str))]).unique())"
   ]
  },
  {
   "cell_type": "markdown",
   "metadata": {},
   "source": [
    "En el campo de edad encontramos 53 registros con valor 'SD'.\n",
    "\n",
    "Se procederá a imputar el valor más frecuente de forma de completar los datos, sin afectar significativamente el análisis estadístico."
   ]
  },
  {
   "cell_type": "code",
   "execution_count": null,
   "metadata": {},
   "outputs": [],
   "source": [
    "# Reemplazar 'SD' por NaN en la columna 'Edad' del DataFrame df_victimas\n",
    "df_victimas['Edad'] = df_victimas['Edad'].replace('SD', np.nan)\n",
    "\n",
    "# Buscar edad más frecuente\n",
    "edad_mas_frecuente = df_victimas['Edad'].mode()[0]\n",
    "\n",
    "# Completar los NaN en la columna 'Edad' con la edad más frecuente\n",
    "df_victimas['Edad'] = df_victimas['Edad'].fillna(edad_mas_frecuente)"
   ]
  },
  {
   "cell_type": "code",
   "execution_count": null,
   "metadata": {},
   "outputs": [],
   "source": [
    "df_victimas['Edad'] = df_victimas['Edad'].astype(int)\n",
    "mf.tipo_datos(df_victimas, ['Edad'])"
   ]
  },
  {
   "cell_type": "markdown",
   "metadata": {},
   "source": [
    "### Duplicados"
   ]
  },
  {
   "cell_type": "markdown",
   "metadata": {},
   "source": [
    "Se analizan valores duplicados de 'Id_hechos'."
   ]
  },
  {
   "cell_type": "code",
   "execution_count": null,
   "metadata": {},
   "outputs": [],
   "source": [
    "# Se observan valores de 'Id_hecho' duplicados\n",
    "duplicados_id = (mf.duplicados(df_victimas, campos_incluir=['Id_hecho'])).sort_values(by = 'Id_hecho')\n",
    "\n",
    "duplicados_id"
   ]
  },
  {
   "cell_type": "markdown",
   "metadata": {},
   "source": [
    "Existen 20 registros donde el identificador se repite, en uno de ellos 3 veces. Estos deberían corresponder con los hechos registrados con más de 1 víctima.\n",
    "\n",
    "Se verifica si existe algún registro donde todos los datos estén duplicados, sin identificar ninguno."
   ]
  },
  {
   "cell_type": "code",
   "execution_count": null,
   "metadata": {},
   "outputs": [],
   "source": [
    "mf.duplicados(df_victimas)"
   ]
  },
  {
   "cell_type": "markdown",
   "metadata": {},
   "source": [
    "Se exploran valores únicos en los campos de tipo categórico,  para verificar que todos los valores estén tipificados según las categorías predefinidas."
   ]
  },
  {
   "cell_type": "code",
   "execution_count": null,
   "metadata": {},
   "outputs": [],
   "source": [
    "campos = ['Rol', 'Victima', 'Sexo', 'Edad']\n",
    "mf.valores_unicos(df_victimas, campos)"
   ]
  },
  {
   "cell_type": "markdown",
   "metadata": {},
   "source": [
    "No se encuentra ningún valor no típificado, tampoco outliers en la edad.\n",
    "\n"
   ]
  },
  {
   "cell_type": "markdown",
   "metadata": {},
   "source": [
    "### Variables temporales\n",
    "\n",
    "Los datos de 'Fecha', 'Año', 'Mes' y 'Dia' ya se encuentran en 'df_hechos', por lo cual pueden ser eliminados de este conjunto de datos.\n",
    "\n",
    "El campo 'Fecha_fallecimiento' para los objetivos de nuestro trabajo no resulta de relevancia, con lo cual tambien se lo eliminará."
   ]
  },
  {
   "cell_type": "code",
   "execution_count": null,
   "metadata": {},
   "outputs": [],
   "source": [
    "# Variables temporales\n",
    "campos = ['Fecha', 'Año', 'Mes', 'Dia', 'Fecha_fallecimiento']\n",
    "\n",
    "# Eliminar las columnas especificadas\n",
    "df_victimas = df_victimas.drop(['Fecha', 'Año', 'Mes', 'Dia', 'Fecha_fallecimiento'], axis=1)"
   ]
  },
  {
   "cell_type": "code",
   "execution_count": null,
   "metadata": {},
   "outputs": [],
   "source": [
    "df_victimas.head(1)"
   ]
  },
  {
   "cell_type": "markdown",
   "metadata": {},
   "source": [
    "Los campos temporales no parecen tener datos incorrectos."
   ]
  },
  {
   "cell_type": "markdown",
   "metadata": {},
   "source": [
    "### Registros sin datos ('SD')\n",
    "\n",
    "Se exploran los registros sin datos para determinar cómo tratarlos."
   ]
  },
  {
   "cell_type": "code",
   "execution_count": null,
   "metadata": {},
   "outputs": [],
   "source": [
    "mf.buscar_valor(df_victimas, valores = 'SD')"
   ]
  },
  {
   "cell_type": "markdown",
   "metadata": {},
   "source": [
    "Se imputaran los valores más frecuentes para 'Rol', 'Victima' y 'Sexo'."
   ]
  },
  {
   "cell_type": "code",
   "execution_count": null,
   "metadata": {},
   "outputs": [],
   "source": [
    "mf.buscar_moda(df_victimas, campos=['Rol', 'Victima', 'Sexo'])"
   ]
  },
  {
   "cell_type": "code",
   "execution_count": null,
   "metadata": {},
   "outputs": [],
   "source": [
    "mf.imputar_valores(df_victimas, valor_a_reemplazar='SD', valor_a_imputar='CONDUCTOR', campos = ['Rol'])\n",
    "mf.imputar_valores(df_victimas, valor_a_reemplazar='SD', valor_a_imputar='MOTO', campos = ['Victima'])\n",
    "mf.imputar_valores(df_victimas, valor_a_reemplazar='SD', valor_a_imputar='MASCULINO', campos = ['Sexo'])"
   ]
  },
  {
   "cell_type": "markdown",
   "metadata": {},
   "source": [
    "Se verifica que no haya quedado información como 'SD'."
   ]
  },
  {
   "cell_type": "code",
   "execution_count": null,
   "metadata": {},
   "outputs": [],
   "source": [
    "mf.buscar_valor(df_victimas, valores = 'SD')"
   ]
  },
  {
   "cell_type": "markdown",
   "metadata": {},
   "source": [
    "Considerando que no se requiere mayor exploración sobre esta información, se procede a unificarla junto a la de hechos analizada anteriormente, de forma tal de poder realizar un análisis integrado de los datos."
   ]
  },
  {
   "cell_type": "markdown",
   "metadata": {},
   "source": [
    "## Unificación de datos"
   ]
  },
  {
   "cell_type": "code",
   "execution_count": null,
   "metadata": {},
   "outputs": [],
   "source": [
    "# Fusionar los DataFrames en función de la columna 'Id_hecho'\n",
    "df_unificado = pd.merge(df_hechos, df_victimas, on='Id_hecho')\n",
    "df_unificado.head(1)"
   ]
  },
  {
   "cell_type": "markdown",
   "metadata": {},
   "source": [
    "En ambos dataframe se coservó la columna 'Victima', con lo cual ahora se encuentra duplicada.\n",
    "\n",
    "Se busca si existen valores distintos para las mismas."
   ]
  },
  {
   "cell_type": "code",
   "execution_count": null,
   "metadata": {},
   "outputs": [],
   "source": [
    "df = df_unificado[df_unificado['Victima_x'] != df_unificado['Victima_y']]\n",
    "campos = ['Victima_x', 'Victima_y']\n",
    "df[campos]"
   ]
  },
  {
   "cell_type": "markdown",
   "metadata": {},
   "source": [
    "Efectivamente se encuentran distintos valores, observando que la información correspondiente al dataframe de victimas cuenta con mayor detalle.\n",
    "\n",
    "Se conservan los valor de la segunda."
   ]
  },
  {
   "cell_type": "code",
   "execution_count": null,
   "metadata": {},
   "outputs": [],
   "source": [
    "# Eliminar las columnas especificadas\n",
    "df_unificado = df_unificado.drop(['Victima_x'], axis=1)\n",
    "\n",
    "df_unificado.rename(columns={'Victima_y': 'Victima'}, inplace=True)"
   ]
  },
  {
   "cell_type": "code",
   "execution_count": null,
   "metadata": {},
   "outputs": [],
   "source": [
    "mf.describir_df(df_unificado)"
   ]
  },
  {
   "cell_type": "markdown",
   "metadata": {},
   "source": [
    "## Semana / Fin de Semana\n",
    "Antes de proseguir se agrega información sobre el día de la semana (nombre) en que ocurrió el hecho y si ese día corresponde o no a fin de semana."
   ]
  },
  {
   "cell_type": "code",
   "execution_count": null,
   "metadata": {},
   "outputs": [],
   "source": [
    "df555 = df_unificado"
   ]
  },
  {
   "cell_type": "code",
   "execution_count": null,
   "metadata": {},
   "outputs": [],
   "source": [
    "# Se extrae el día de la semana (0 = lunes, 6 = domingo)\n",
    "df_unificado['Nro_dia_semana'] = df_unificado['Fecha'].dt.dayofweek\n",
    "df_unificado['Nro_dia_semana'] = df_unificado['Nro_dia_semana'] + 1\n",
    "\n",
    "# Mapear los valores numéricos a nombres de los días\n",
    "dias = {1: 'Lunes', 2: 'Martes', 3: 'Miércoles', 4: 'Jueves', 5: 'Viernes', 6: 'Sábado', 7: 'Domingo'}\n",
    "\n",
    "df_unificado['Dia_semana'] = df_unificado['Nro_dia_semana'].map(dias)\n",
    "\n",
    "# Crear una nueva columna 'Fin_semana' en base a 'Dia_semana'\n",
    "dias_fin_semana = ['Sábado', 'Domingo']\n",
    "df_unificado['Fin_semana'] = df_unificado['Dia_semana'].apply(lambda x: 'SI' if x in dias_fin_semana else 'NO')\n",
    "\n",
    "df_unificado.tail(3)"
   ]
  },
  {
   "cell_type": "markdown",
   "metadata": {},
   "source": [
    "## Rango horario\n",
    "\n",
    "Se genera un nuevo campo, 'Rango_horario', distinguiendo entre rangos de 3 horas, partiendo desde las 0 hs."
   ]
  },
  {
   "cell_type": "code",
   "execution_count": null,
   "metadata": {},
   "outputs": [],
   "source": [
    "# Definir los límites de los rangos horarios\n",
    "limites = [0, 3, 6, 9, 12, 15, 18, 21, 24]\n",
    "\n",
    "# Definir las etiquetas para cada rango\n",
    "etiquetas = ['0-2.59', '3-5.59', '6-8.59', '9-11.59', '12-14.59', '15-17.59', '18-21.59', '22-23.59']\n",
    "\n",
    "# Crear la nueva columna 'Rango_horario'\n",
    "df_unificado['Rango_horario'] = pd.cut(df_unificado['Franja_horaria'], bins=limites, labels=etiquetas, include_lowest=True, right=False)\n",
    "\n",
    "# Mostrar el DataFrame resultante\n",
    "df_unificado[['Franja_horaria', 'Rango_horario']].head()\n"
   ]
  },
  {
   "cell_type": "code",
   "execution_count": null,
   "metadata": {},
   "outputs": [],
   "source": [
    "df_unificado.head(1)"
   ]
  },
  {
   "cell_type": "markdown",
   "metadata": {},
   "source": [
    "## Exploración\n",
    "\n",
    "En este punto del trabajo se comienza con la exploración de relaciones.\n",
    "\n",
    "- Cantidad de víctimas en el tiempo.\n",
    "- Cantidad de víctimas por Comuna\n",
    "- Cantidad de víctimas por tipo de calle\n",
    "- \n",
    "- \n",
    "- \n",
    "\n",
    "\n"
   ]
  },
  {
   "cell_type": "markdown",
   "metadata": {},
   "source": [
    "### Cantidad de víctimas por año\n",
    "\n",
    "Se explora la cantidad de víctimas por año, agrupando también por:\n",
    "- Mes\n",
    "- Dia\n",
    "- Hora\n",
    "- Semana / Fin de semana\n",
    "- Hora, Semana / Fin de Semana\n",
    "- Rango Horario, Semana / Fin de Semana"
   ]
  },
  {
   "cell_type": "markdown",
   "metadata": {},
   "source": [
    "Se agrupan los datos por distintas variables de tiempo, que se analizarán utilizando las agrupaciones necesarias.\n",
    "\n",
    "En principio tomaremos los datos de: 'Fecha', 'Año', 'Mes', 'Dia_semana','Franja_horaria'."
   ]
  },
  {
   "cell_type": "code",
   "execution_count": null,
   "metadata": {},
   "outputs": [],
   "source": [
    "# Agrupar por Fecha, Año, Mes y Franja_horaria y sumar la cantidad de víctimas\n",
    "victimas_tiempo = df_unificado.groupby(['Fecha', 'Año', 'Mes', 'Dia_semana', 'Fin_semana','Franja_horaria']).agg({'Cantidad_victimas': 'sum'}).sort_values(by=['Franja_horaria', 'Fecha'], ascending=[True, True]).reset_index()\n",
    "\n",
    "victimas_tiempo.head(3)"
   ]
  },
  {
   "cell_type": "markdown",
   "metadata": {},
   "source": [
    "#### Víctimas por Año\n",
    "\n",
    "Se explora el total de víctimas para cada año."
   ]
  },
  {
   "cell_type": "code",
   "execution_count": null,
   "metadata": {},
   "outputs": [],
   "source": [
    "# Agrupar por Año\n",
    "victimas_anual = df_unificado.groupby(['Año']).agg({'Cantidad_victimas': 'sum'}).reset_index()\n",
    "\n",
    "# Configuración de estilo de seaborn\n",
    "sns.set(style=\"whitegrid\")\n",
    "\n",
    "# Graficar la cantidad total de víctimas por año como un gráfico de barras\n",
    "plt.figure(figsize=(8, 4))\n",
    "sns.barplot(x='Año', y='Cantidad_victimas', data=victimas_anual)\n",
    "plt.title('Cantidad Total de Víctimas por Año')\n",
    "plt.xlabel('Año')\n",
    "plt.ylabel('Cantidad Total de Víctimas')\n",
    "plt.show()"
   ]
  },
  {
   "cell_type": "markdown",
   "metadata": {},
   "source": [
    "Se observa una caída notable a partir de 2019 en la cantidad total de víctimas."
   ]
  },
  {
   "cell_type": "markdown",
   "metadata": {},
   "source": [
    "#### Victimas por Año y Mes\n",
    "\n",
    "Se explora el total de víctimas para cada año por mes."
   ]
  },
  {
   "cell_type": "code",
   "execution_count": null,
   "metadata": {},
   "outputs": [],
   "source": [
    "# Agrupar por Año, Mes\n",
    "victimas_mensual = df_unificado.groupby(['Año', 'Mes']).agg({'Cantidad_victimas': 'sum'}).reset_index()\n",
    "\n",
    "# Configurar el estilo de seaborn\n",
    "sns.set(style=\"whitegrid\")\n",
    "\n",
    "# Graficar la evolución mensual de la cantidad de víctimas para cada año\n",
    "g = sns.FacetGrid(victimas_mensual, col=\"Año\", col_wrap=3, height=2, aspect=2, sharey=False)\n",
    "g.map(sns.lineplot, \"Mes\", \"Cantidad_victimas\", marker='o', palette=\"viridis\")\n",
    "g.set_titles(col_template=\"{col_name}\", fontsize=12)\n",
    "g.set_axis_labels(\"Mes\", \"Cantidad Víctimas\")\n",
    "g.set(xticks=range(1, 13))  # Establecer las etiquetas del eje x para cada mes\n",
    "g.add_legend()\n",
    "plt.tight_layout()\n",
    "plt.show()"
   ]
  },
  {
   "cell_type": "markdown",
   "metadata": {},
   "source": [
    "A simple vista no parece haber una tendencia en común a todos los años.\n",
    "\n",
    "En 2020 se observan valores bajos, con un alza marcada para el mes de diciembre. Esto probablemente este asociado al contexto del momento, donde se transitaron los meses de aislamiento preventivo debido a la crisis de COVID.\n",
    "\n",
    "Más allá de eso, cada año presenta tendencias diferentes, con valores máximos en distintos meses."
   ]
  },
  {
   "cell_type": "markdown",
   "metadata": {},
   "source": [
    "#### Víctimas por Año y Dia"
   ]
  },
  {
   "cell_type": "markdown",
   "metadata": {},
   "source": [
    "En este punto se observa distribución por año según día de la semana."
   ]
  },
  {
   "cell_type": "code",
   "execution_count": null,
   "metadata": {},
   "outputs": [],
   "source": [
    "# Agrupar por Año, Día\n",
    "victimas_dia_semana = df_unificado.groupby(['Año', 'Dia_semana', 'Nro_dia_semana']).agg({'Cantidad_victimas': 'sum'}).sort_values(by=['Año', 'Nro_dia_semana'], ascending=[True, True]).reset_index()\n",
    "victimas_dia_semana\n",
    "\n",
    "# Configurar el estilo de seaborn\n",
    "sns.set(style=\"whitegrid\")\n",
    "\n",
    "# Graficar la evolución mensual de la cantidad de víctimas para cada año\n",
    "g = sns.FacetGrid(victimas_dia_semana, col=\"Año\", col_wrap=2, height=2, aspect=3, sharey=True)\n",
    "g.map(sns.barplot, \"Dia_semana\", \"Cantidad_victimas\", palette=\"viridis\")\n",
    "g.set_titles(col_template=\"{col_name}\", fontsize=12)\n",
    "g.set_axis_labels(\"Día\", \"Cantidad Víctimas\")\n",
    "g.set(xticks=range(0, 7))  # Establecer las etiquetas del eje x para cada día\n",
    "g.add_legend()\n",
    "plt.tight_layout()\n",
    "plt.show()"
   ]
  },
  {
   "cell_type": "markdown",
   "metadata": {},
   "source": [
    "No se observan tendencias claras, los días con mayor cantidad de víctimas son variables según el año."
   ]
  },
  {
   "cell_type": "markdown",
   "metadata": {},
   "source": [
    "#### Victimas por Año y Hora"
   ]
  },
  {
   "cell_type": "code",
   "execution_count": null,
   "metadata": {},
   "outputs": [],
   "source": [
    "# Agrupar por Año y Horario\n",
    "victimas_hora = df_unificado.groupby(['Año', 'Franja_horaria']).agg({'Cantidad_victimas': 'sum'}).reset_index()\n",
    "victimas_hora.head(3)"
   ]
  },
  {
   "cell_type": "code",
   "execution_count": null,
   "metadata": {},
   "outputs": [],
   "source": [
    "# Configurar el estilo de seaborn\n",
    "sns.set(style=\"whitegrid\")\n",
    "\n",
    "# Graficar la evolución mensual de la cantidad de víctimas para cada año\n",
    "g = sns.FacetGrid(victimas_hora, col=\"Año\", col_wrap=2, height=2, aspect=5, sharey=False)\n",
    "g.map(sns.lineplot, \"Franja_horaria\", \"Cantidad_victimas\", marker='o', palette=\"viridis\")\n",
    "g.set_titles(col_template=\"{col_name}\", fontsize=12)\n",
    "g.set_axis_labels(\"Rango Horario\", \"Cantidad Víctimas\")\n",
    "g.set(xticks=range(0, 24))  # Establecer las etiquetas del eje x para cada mes\n",
    "g.add_legend()\n",
    "plt.tight_layout()\n",
    "plt.show()"
   ]
  },
  {
   "cell_type": "markdown",
   "metadata": {},
   "source": [
    "Se pueden observar una tendencia en común.  A partir de las 2 am hasta 7 am se observa una tendencia creciente, alcanzando picos aproximadamente entre 5 y 7 am.\n",
    "\n",
    "Se explora si existen diferencias en los rangos horarios según sea fin de semana o no."
   ]
  },
  {
   "cell_type": "markdown",
   "metadata": {},
   "source": [
    "#### Víctimas por año, Semana / Fin de semana"
   ]
  },
  {
   "cell_type": "code",
   "execution_count": null,
   "metadata": {},
   "outputs": [],
   "source": [
    "# Agrupar\n",
    "victimas_semana = victimas_tiempo.groupby(['Dia_semana', 'Fin_semana']).agg({'Cantidad_victimas': 'sum'}).sort_values(by='Cantidad_victimas', ascending = False).reset_index()\n",
    "victimas_semana"
   ]
  },
  {
   "cell_type": "code",
   "execution_count": null,
   "metadata": {},
   "outputs": [],
   "source": [
    "# Filtrar DataFrame para días de semana y fines de semana\n",
    "semana = victimas_semana[victimas_semana['Fin_semana'] == 'NO']\n",
    "fin_de_semana = victimas_semana[victimas_semana['Fin_semana'] == 'SI']\n",
    "\n",
    "# Calcular el promedio para días de semana y fines de semana\n",
    "promedio_semana = semana['Cantidad_victimas'].mean()\n",
    "promedio_fin_de_semana = fin_de_semana['Cantidad_victimas'].mean()\n",
    "\n",
    "# Mostrar resultados\n",
    "print(f'Promedio de víctimas para días de semana: {promedio_semana}')\n",
    "print(f'Promedio de víctimas para fines de semana: {promedio_fin_de_semana}')\n"
   ]
  },
  {
   "cell_type": "markdown",
   "metadata": {},
   "source": [
    "Se este análisis se puede observar que el promedio de víctimas según sea o no fin de semana presenta diferencias significativas, siendo mas de un 10% mayor los fines de semana.\n",
    "\n",
    "Por otro lado, si se observan los valores de viernes y lunes (el día previo y posterior al fin de semana) los valores son mayores que los días entre semana (martes a jueves)."
   ]
  },
  {
   "cell_type": "markdown",
   "metadata": {},
   "source": [
    "#### Victimas por Año, Hora, Semana / Fin de Semana"
   ]
  },
  {
   "cell_type": "markdown",
   "metadata": {},
   "source": [
    "En este punto se procura explorar tendencias diferenciando si es día de semana o fin de semana distribuído por horario."
   ]
  },
  {
   "cell_type": "code",
   "execution_count": null,
   "metadata": {},
   "outputs": [],
   "source": [
    "# Agrupar por Año, Franja Horaria, Fin de Semana\n",
    "victimas_hora_dia = df_unificado.groupby(['Año', 'Franja_horaria', 'Fin_semana']).agg({'Cantidad_victimas': 'sum'}).reset_index()\n",
    "\n",
    "# Configurar el estilo de Matplotlib\n",
    "plt.style.use('seaborn-whitegrid')\n",
    "\n",
    "# Crear subgráficos por año\n",
    "fig, axes = plt.subplots(nrows=6, ncols=1, figsize=(12, 12), sharey=True)\n",
    "\n",
    "# Iterar sobre cada año\n",
    "for i, year in enumerate(range(2016, 2022)):\n",
    "    # Filtrar datos por año\n",
    "    subset = victimas_hora_dia[victimas_hora_dia['Año'] == year]\n",
    "\n",
    "    # Dividir datos por Fin_semana\n",
    "    weekend_data = subset[subset['Fin_semana'] == 'SI']\n",
    "    weekday_data = subset[subset['Fin_semana'] == 'NO']\n",
    "\n",
    "    # Graficar para Fin_semana\n",
    "    axes[i].plot(weekend_data['Franja_horaria'], weekend_data['Cantidad_victimas'], label='Fin_semana = SI', marker='o')\n",
    "\n",
    "    # Graficar para NO Fin_semana\n",
    "    axes[i].plot(weekday_data['Franja_horaria'], weekday_data['Cantidad_victimas'], label='Fin_semana = NO', marker='o')\n",
    "\n",
    "    # Configurar etiquetas y leyenda\n",
    "    axes[i].set_title(f'Año {year}')\n",
    "    axes[i].set_xlabel('Hora')\n",
    "    axes[i].set_ylabel('Cantidad Víctimas')\n",
    "    axes[i].set_xticks(range(24))\n",
    "    axes[i].legend()\n",
    "\n",
    "# Ajustar diseño y mostrar\n",
    "plt.tight_layout()\n",
    "plt.show()\n"
   ]
  },
  {
   "cell_type": "markdown",
   "metadata": {},
   "source": [
    "Con líneas azules se puede observar la distribución horaria para fines de semana y con naranja para los días de semana.\n",
    "\n",
    "- Los picos para fines de semana se dan entre 4 y 7 am.\n",
    "- La tendencia para días de semana es más variable según el año, observando picos en distintos horarios."
   ]
  },
  {
   "cell_type": "markdown",
   "metadata": {},
   "source": [
    "#### Victimas por Año, Rango Horario, Semana / Fin de Semana"
   ]
  },
  {
   "cell_type": "markdown",
   "metadata": {},
   "source": [
    "Se observan tendencias por los rangos horarios agrupados de 3 horas, distinguiendo semana y fin de semana."
   ]
  },
  {
   "cell_type": "code",
   "execution_count": null,
   "metadata": {},
   "outputs": [],
   "source": [
    "# Agrupar por Año, Rango Horario, Fin de Semana\n",
    "victimas_rango_horario = df_unificado.groupby(['Año', 'Rango_horario', 'Fin_semana']).agg({'Cantidad_victimas': 'sum'}).reset_index()\n",
    "\n",
    "# Configurar el estilo de Matplotlib\n",
    "plt.style.use('seaborn-whitegrid')\n",
    "\n",
    "# Crear subgráficos por año\n",
    "fig, axes = plt.subplots(nrows=6, ncols=1, figsize=(15, 15), sharey=True)\n",
    "\n",
    "# Iterar sobre cada año\n",
    "for i, year in enumerate(range(2016, 2022)):\n",
    "    # Filtrar datos por año\n",
    "    subset = victimas_rango_horario[victimas_rango_horario['Año'] == year]\n",
    "\n",
    "    # Dividir datos por Fin_semana\n",
    "    weekend_data = subset[subset['Fin_semana'] == 'SI']\n",
    "    weekday_data = subset[subset['Fin_semana'] == 'NO']\n",
    "\n",
    "    # Graficar para Fin_semana\n",
    "    axes[i].plot(weekend_data['Rango_horario'], weekend_data['Cantidad_victimas'], label='Fin_semana = SI', marker='o')\n",
    "\n",
    "    # Graficar para NO Fin_semana\n",
    "    axes[i].plot(weekday_data['Rango_horario'], weekday_data['Cantidad_victimas'], label='Fin_semana = NO', marker='o')\n",
    "\n",
    "    # Configurar etiquetas y leyenda\n",
    "    axes[i].set_title(f'Año {year}')\n",
    "    axes[i].set_xlabel('Rango Horario')\n",
    "    axes[i].set_ylabel('Cantidad Víctimas')\n",
    "    axes[i].set_xticks(range(8))\n",
    "    axes[i].legend()\n",
    "\n",
    "# Ajustar diseño y mostrar\n",
    "plt.tight_layout()\n",
    "plt.show()"
   ]
  },
  {
   "cell_type": "markdown",
   "metadata": {},
   "source": [
    "A partir de lo visualizado en los gráficos presentados, se manifiesta más claramente una tendencia para los fines de semana con picos en los rangos 3-5.59 hs y 6-8.59 hs (entre 3 y 9 de la mañana).\n",
    "\n",
    "Para días de semana, como se dijo, los datos están más dispersos. La mayoría de los picos ocurren entre 9 y 18 horas."
   ]
  },
  {
   "cell_type": "markdown",
   "metadata": {},
   "source": [
    "## Victimas agrupadas por variables espaciales"
   ]
  },
  {
   "cell_type": "markdown",
   "metadata": {},
   "source": [
    "Se exlora información vinculada a 'Tipo_calle', 'Cruce' y 'Comuna'."
   ]
  },
  {
   "cell_type": "code",
   "execution_count": null,
   "metadata": {},
   "outputs": [],
   "source": [
    "# Agrupar por 'Tipo_calle', 'Cruce', 'Comuna'\n",
    "victimas_espacio = df_unificado.groupby(['Tipo_calle', 'Cruce', 'Comuna']).agg({'Cantidad_victimas': 'sum'}).reset_index()\n",
    "victimas_espacio"
   ]
  },
  {
   "cell_type": "markdown",
   "metadata": {},
   "source": [
    "#### Victimas por Comuna"
   ]
  },
  {
   "cell_type": "markdown",
   "metadata": {},
   "source": [
    "Se observan valores para 'Comuna' con 0, que serán excluidos del análisis al discriminar valores por Comuna."
   ]
  },
  {
   "cell_type": "code",
   "execution_count": null,
   "metadata": {},
   "outputs": [],
   "source": [
    "# Se descartan registros con 'Comuna' igual a 0\n",
    "victimas_comuna = victimas_espacio[victimas_espacio['Comuna'] != 0].groupby(['Comuna']).agg({'Cantidad_victimas': 'sum'}).sort_values(by='Cantidad_victimas').reset_index()\n",
    "\n",
    "# Graficar la cantidad de víctimas por Comuna\n",
    "plt.figure(figsize=(8, 4))\n",
    "sns.barplot(x='Comuna', y='Cantidad_victimas', data=victimas_comuna, palette='viridis')\n",
    "plt.title('Cantidad de Víctimas por Comuna')\n",
    "plt.xlabel('Comuna')\n",
    "plt.ylabel('Cantidad de Víctimas')\n",
    "plt.show()\n"
   ]
  },
  {
   "cell_type": "markdown",
   "metadata": {},
   "source": [
    "Las comunas 1, 4, 7, 8 y 9 son las que más víctimas registran."
   ]
  },
  {
   "cell_type": "markdown",
   "metadata": {},
   "source": [
    "#### Victimas por Tipo de Calle"
   ]
  },
  {
   "cell_type": "code",
   "execution_count": null,
   "metadata": {},
   "outputs": [],
   "source": [
    "# Se agrupa\n",
    "victimas_calle = victimas_espacio.groupby(['Tipo_calle']).agg({'Cantidad_victimas': 'sum'}).sort_values(by='Cantidad_victimas', ascending=False).reset_index()\n",
    "\n",
    "# Graficar la cantidad de víctimas por Comuna\n",
    "plt.figure(figsize=(8, 4))\n",
    "sns.barplot(x='Tipo_calle', y='Cantidad_victimas', data=victimas_calle, palette='viridis')\n",
    "plt.title('Cantidad de Víctimas por Tipo de Calle')\n",
    "plt.xlabel('Tipo de Calle')\n",
    "plt.ylabel('Cantidad de Víctimas')\n",
    "plt.show()"
   ]
  },
  {
   "cell_type": "markdown",
   "metadata": {},
   "source": [
    "Se observa que las avenidas registran con una diferencia importante los mayores registros de víctimas."
   ]
  },
  {
   "cell_type": "markdown",
   "metadata": {},
   "source": [
    "#### Victimas por Cruce (SI o NO)"
   ]
  },
  {
   "cell_type": "code",
   "execution_count": null,
   "metadata": {},
   "outputs": [],
   "source": [
    "# Se agrupa\n",
    "victimas_cruce = victimas_espacio.groupby(['Cruce']).agg({'Cantidad_victimas': 'sum'}).sort_values(by='Cantidad_victimas', ascending=False).reset_index()\n",
    "\n",
    "# Graficar la cantidad de víctimas por Comuna\n",
    "plt.figure(figsize=(8, 4))\n",
    "sns.barplot(x='Cruce', y='Cantidad_victimas', data=victimas_cruce, palette='viridis')\n",
    "plt.title('Cantidad de Víctimas por Cruce')\n",
    "plt.xlabel('Cruce')\n",
    "plt.ylabel('Cantidad de Víctimas')\n",
    "plt.show()"
   ]
  },
  {
   "cell_type": "markdown",
   "metadata": {},
   "source": [
    "Más del 70% de víctimas se producen en cruces."
   ]
  },
  {
   "cell_type": "markdown",
   "metadata": {},
   "source": [
    "#### Victimas por Tipo de Calle, Cruce"
   ]
  },
  {
   "cell_type": "code",
   "execution_count": null,
   "metadata": {},
   "outputs": [],
   "source": [
    "# Se agrupa\n",
    "victimas_calle = victimas_espacio.groupby(['Tipo_calle', 'Cruce']).agg({'Cantidad_victimas': 'sum'}).sort_values(by='Cantidad_victimas', ascending=False).reset_index()\n",
    "\n",
    "# Graficar la cantidad de víctimas por Tipo de Calle y Cruce\n",
    "plt.figure(figsize=(8, 3))\n",
    "sns.barplot(x='Tipo_calle', y='Cantidad_victimas', hue='Cruce', data=victimas_calle, palette='viridis')\n",
    "plt.title('Cantidad de Víctimas por Tipo de Calle y Cruce')\n",
    "plt.xlabel('Tipo de Calle')\n",
    "plt.ylabel('Cantidad de Víctimas')\n",
    "plt.show()\n"
   ]
  },
  {
   "cell_type": "markdown",
   "metadata": {},
   "source": [
    "Se observá una concentración de más del 50% de accidentes en avenidas con cruce."
   ]
  },
  {
   "cell_type": "markdown",
   "metadata": {},
   "source": [
    "## Victimas según participantes"
   ]
  },
  {
   "cell_type": "markdown",
   "metadata": {},
   "source": [
    "Se exploran relaciones entre 'Acusado', 'Rol' y 'Victima'."
   ]
  },
  {
   "cell_type": "code",
   "execution_count": null,
   "metadata": {},
   "outputs": [],
   "source": [
    "# Agrupar por 'Acusado', 'Rol', 'Victima'\n",
    "victimas_participantes = df_unificado.groupby(['Acusado', 'Victima', 'Rol']).agg({'Cantidad_victimas': 'sum'}).sort_values(by='Cantidad_victimas', ascending = False).reset_index()\n",
    "victimas_participantes.head(3)"
   ]
  },
  {
   "cell_type": "markdown",
   "metadata": {},
   "source": [
    "#### Víctimas por Vehículo de la Víctima"
   ]
  },
  {
   "cell_type": "code",
   "execution_count": null,
   "metadata": {},
   "outputs": [],
   "source": [
    "# Agrupar por 'Vehiculo'\n",
    "victimas_vehiculo = victimas_participantes.groupby(['Victima']).agg({'Cantidad_victimas': 'sum'}).sort_values(by='Cantidad_victimas', ascending = False).reset_index()\n",
    "\n",
    "# Graficar la cantidad de víctimas por Tipo de Calle y Cruce\n",
    "plt.figure(figsize=(10, 6))\n",
    "sns.barplot(x='Victima', y='Cantidad_victimas', data=victimas_vehiculo, palette='viridis')\n",
    "plt.title('Cantidad de Víctimas por Vehiculo')\n",
    "plt.xlabel('Vehiculo')\n",
    "plt.ylabel('Cantidad de Víctimas')\n",
    "plt.show()"
   ]
  },
  {
   "cell_type": "markdown",
   "metadata": {},
   "source": [
    "Se observa que por amplia diferencia la mayor cantidad de víctimas utilizan moto como medio de transporte o bien son peatones."
   ]
  },
  {
   "cell_type": "markdown",
   "metadata": {},
   "source": [
    "#### Víctimas por Acusado"
   ]
  },
  {
   "cell_type": "code",
   "execution_count": null,
   "metadata": {},
   "outputs": [],
   "source": [
    "# Agrupar por 'Acusado'\n",
    "victimas_acusado = victimas_participantes.groupby(['Acusado']).agg({'Cantidad_victimas': 'sum'}).sort_values(by='Cantidad_victimas', ascending = False).reset_index()\n",
    "\n",
    "# Graficar la cantidad de víctimas por Tipo de Calle y Cruce\n",
    "plt.figure(figsize=(10, 6))\n",
    "sns.barplot(x='Acusado', y='Cantidad_victimas', data=victimas_acusado, palette='viridis')\n",
    "plt.title('Cantidad de Víctimas por Acusado')\n",
    "plt.xlabel('Acusado')\n",
    "plt.ylabel('Cantidad de Víctimas')\n",
    "plt.show()"
   ]
  },
  {
   "cell_type": "markdown",
   "metadata": {},
   "source": [
    "Más del 70% de acusados se encuentran entre 'AUTO', 'PASAJEROS' y 'CARGAS'."
   ]
  },
  {
   "cell_type": "markdown",
   "metadata": {},
   "source": [
    "#### Víctimas por Rol"
   ]
  },
  {
   "cell_type": "code",
   "execution_count": null,
   "metadata": {},
   "outputs": [],
   "source": [
    "# Agrupar por 'Vehiculo'\n",
    "victimas_rol = victimas_participantes.groupby(['Rol']).agg({'Cantidad_victimas': 'sum'}).sort_values(by='Cantidad_victimas', ascending = False).reset_index()\n",
    "\n",
    "# Graficar la cantidad de víctimas por Tipo de Calle y Cruce\n",
    "plt.figure(figsize=(8, 4))\n",
    "sns.barplot(x='Rol', y='Cantidad_victimas', data=victimas_rol, palette='viridis')\n",
    "plt.title('Cantidad de Víctimas por Rol')\n",
    "plt.xlabel('Rol')\n",
    "plt.ylabel('Cantidad de Víctimas')\n",
    "plt.show()"
   ]
  },
  {
   "cell_type": "markdown",
   "metadata": {},
   "source": [
    "La mayor cantidad de víctimas tienen un rol de conductor del vehículo o peatones."
   ]
  },
  {
   "cell_type": "markdown",
   "metadata": {},
   "source": [
    "#### Víctimas por Acusado y Vehículo de la víctima"
   ]
  },
  {
   "cell_type": "code",
   "execution_count": null,
   "metadata": {},
   "outputs": [],
   "source": [
    "print(victimas_participantes.head(10))\n",
    "\n",
    "# Graficar la cantidad de víctimas por Acusado y Victima\n",
    "plt.figure(figsize=(8, 4))\n",
    "sns.barplot(x='Acusado', y='Cantidad_victimas', hue='Victima', data=victimas_participantes.head(10), palette='viridis')\n",
    "plt.title('Cantidad de Víctimas por Acusado')\n",
    "plt.xlabel('Acusado')\n",
    "plt.ylabel('Cantidad de Víctimas')\n",
    "plt.show()"
   ]
  },
  {
   "cell_type": "markdown",
   "metadata": {},
   "source": [
    "En este gráfico se puede observar el tipo de víctimas agrupadas por el acusado. \n",
    "\n",
    "En el mismo se representan solo las 10 agrupaciones con mayor cantidad de víctimas. El acusado 'PASAJEROS' con víctima 'PEATON' es donde se registra la mayor cantidad."
   ]
  },
  {
   "cell_type": "markdown",
   "metadata": {},
   "source": [
    "### Víctimas por Sexo"
   ]
  },
  {
   "cell_type": "code",
   "execution_count": null,
   "metadata": {},
   "outputs": [],
   "source": [
    "# Agrupar por Sexo y sumar la cantidad de víctimas\n",
    "victimas_por_sexo = df_unificado.groupby('Sexo')['Cantidad_victimas'].agg('sum').reset_index()\n",
    "\n",
    "# Configurar el estilo de seaborn\n",
    "sns.set(style=\"whitegrid\")\n",
    "\n",
    "# Graficar la cantidad de víctimas por Sexo\n",
    "plt.figure(figsize=(8, 5))\n",
    "sns.barplot(x='Sexo', y='Cantidad_victimas', data=victimas_por_sexo, palette='viridis')\n",
    "plt.title('Cantidad de Víctimas por Sexo')\n",
    "plt.xlabel('Sexo')\n",
    "plt.ylabel('Cantidad de Víctimas')\n",
    "plt.show()"
   ]
  },
  {
   "cell_type": "markdown",
   "metadata": {},
   "source": [
    "Se observa una preponderancia importante de víctimas de sexo masculino."
   ]
  },
  {
   "cell_type": "markdown",
   "metadata": {},
   "source": [
    "### Víctimas por Edades"
   ]
  },
  {
   "cell_type": "code",
   "execution_count": null,
   "metadata": {},
   "outputs": [],
   "source": [
    "plt.figure(figsize=(10, 6))\n",
    "sns.histplot(df_unificado['Edad'], bins=20, kde=True, palette=\"viridis\")\n",
    "plt.title('Distribución de Edades')\n",
    "plt.xlabel('Edad')\n",
    "plt.ylabel('Frecuencia')\n",
    "plt.show()"
   ]
  },
  {
   "cell_type": "markdown",
   "metadata": {},
   "source": [
    "Entre los 20 y 40 años se encuentra la mayor cantidad de víctimas."
   ]
  },
  {
   "cell_type": "markdown",
   "metadata": {},
   "source": [
    "## Se guarda el Dataset con las modificaciones realizadas"
   ]
  },
  {
   "cell_type": "code",
   "execution_count": null,
   "metadata": {},
   "outputs": [],
   "source": [
    "df_unificado.to_csv('Datasets/homicidios_unificado.csv', index=False, encoding='utf-8')"
   ]
  }
 ],
 "metadata": {
  "kernelspec": {
   "display_name": "Python 3",
   "language": "python",
   "name": "python3"
  },
  "language_info": {
   "codemirror_mode": {
    "name": "ipython",
    "version": 3
   },
   "file_extension": ".py",
   "mimetype": "text/x-python",
   "name": "python",
   "nbconvert_exporter": "python",
   "pygments_lexer": "ipython3",
   "version": "3.11.4"
  }
 },
 "nbformat": 4,
 "nbformat_minor": 2
}
